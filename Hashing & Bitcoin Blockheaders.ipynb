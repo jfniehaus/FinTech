{
 "cells": [
  {
   "cell_type": "markdown",
   "metadata": {},
   "source": [
    "# Hashing"
   ]
  },
  {
   "cell_type": "code",
   "execution_count": 1,
   "metadata": {
    "id": "i5h-TGgNq6DY"
   },
   "outputs": [],
   "source": [
    "import hashlib"
   ]
  },
  {
   "cell_type": "code",
   "execution_count": 2,
   "metadata": {
    "colab": {
     "base_uri": "https://localhost:8080/"
    },
    "id": "kuPorAJLrFJt",
    "outputId": "31a8f704-632f-4d2c-ec3b-10c2de3173d2"
   },
   "outputs": [
    {
     "name": "stdout",
     "output_type": "stream",
     "text": [
      "The hash for that entry is f3b3a1431564b84962d9afb924cb948c10fbfd9526613cc62fb623325a16b8b1\n"
     ]
    }
   ],
   "source": [
    "name_hash = hashlib.sha256(b\"Joe Niehaus\").hexdigest()\n",
    "print('The hash for that entry is',name_hash)"
   ]
  },
  {
   "cell_type": "markdown",
   "metadata": {},
   "source": [
    "### Find a hash that starts with a specific sequence"
   ]
  },
  {
   "cell_type": "code",
   "execution_count": 3,
   "metadata": {
    "colab": {
     "base_uri": "https://localhost:8080/"
    },
    "id": "P8tJJkpYsGZ3",
    "outputId": "414badbb-32b6-466a-acb8-1b9640ca0467"
   },
   "outputs": [
    {
     "name": "stdout",
     "output_type": "stream",
     "text": [
      "The hash of 2767 is the solution to our puzzle.\n",
      "Here is our new hash: 2021dc8bd93e4492bf258d9d18eabf53579b19c8c97bbcebaf0619d9eba587cb\n"
     ]
    }
   ],
   "source": [
    "#find a hash that starts with the digits 2021\n",
    "\n",
    "nonce = 1 #start at 1\n",
    "\n",
    "start_int = 2021\n",
    "#the larger the number, the longer this cell may have to run to find the solution\n",
    "\n",
    "found = 0\n",
    "while found == 0:\n",
    "  nonce += 1\n",
    "  string = str(nonce)\n",
    "  new_Hash = hashlib.sha256(string.encode()).hexdigest()\n",
    "  if new_Hash[0:len(str(start_int))] == str(start_int):\n",
    "    found = 1\n",
    "\n",
    "print('The hash of', nonce, 'is the solution to our puzzle.')\n",
    "print('Here is our new hash:',new_Hash)"
   ]
  },
  {
   "cell_type": "code",
   "execution_count": 4,
   "metadata": {
    "colab": {
     "base_uri": "https://localhost:8080/",
     "height": 35
    },
    "id": "guO8uhb-var0",
    "outputId": "9875d006-097d-4348-fb8b-a5c1be2ff902"
   },
   "outputs": [
    {
     "data": {
      "text/plain": [
       "'2021dc8bd93e4492bf258d9d18eabf53579b19c8c97bbcebaf0619d9eba587cb'"
      ]
     },
     "execution_count": 4,
     "metadata": {},
     "output_type": "execute_result"
    }
   ],
   "source": [
    "#check our solution\n",
    "hashlib.sha256(b\"2767\").hexdigest()"
   ]
  },
  {
   "cell_type": "markdown",
   "metadata": {},
   "source": [
    "# Bitcoin Mining Example"
   ]
  },
  {
   "cell_type": "code",
   "execution_count": 5,
   "metadata": {},
   "outputs": [
    {
     "name": "stdout",
     "output_type": "stream",
     "text": [
      "536870914 85738f8f9a7f1b04b5329c590ebcb9e425925c6d0984089c43a022de4f19c281 5dc35a5a23a1fb7cfa0db21b51be3acca660a9302e8d91739b18464ef428bf31 2021-06-03 18:44:53 4 3291\n"
     ]
    }
   ],
   "source": [
    "#Parameters of a Bitcoin Blockheader needed for proof of work\n",
    "\n",
    "version = 0x20000002\n",
    "\n",
    "hash_of_prev_block = '85738f8f9a7f1b04b5329c590ebcb9e425925c6d0984089c43a022de4f19c281'\n",
    "\n",
    "hash_of_all_trans = hashlib.sha256(b\"Joe sends one bitcoin to Sarah\").hexdigest()\n",
    "\n",
    "import datetime\n",
    "timestamp = datetime.datetime.now().strftime('%Y-%m-%d %H:%M:%S')\n",
    "\n",
    "bits = 4 #how difficult the puzzle is to solve\n",
    "\n",
    "nonce = 0 #start at 0\n",
    "\n",
    "#Solve blockheader\n",
    "found = 0\n",
    "while found == 0:\n",
    "  nonce += 1\n",
    "  blockheader = ' '.join([str(version), hash_of_prev_block, hash_of_all_trans, timestamp, str(bits), str(nonce)])\n",
    "  newHash = hashlib.sha256(blockheader.encode()).hexdigest()\n",
    "  if newHash[0:bits] == str().zfill(bits):\n",
    "    found = 1\n",
    "\n",
    "print(blockheader)"
   ]
  },
  {
   "cell_type": "code",
   "execution_count": 6,
   "metadata": {},
   "outputs": [
    {
     "name": "stdout",
     "output_type": "stream",
     "text": [
      "0000749a4383257d9397439b1f0d0e22fd48aac4d6bd8c31694fc7d0cc508eba\n",
      "0000749a4383257d9397439b1f0d0e22fd48aac4d6bd8c31694fc7d0cc508eba\n"
     ]
    }
   ],
   "source": [
    "#check correct\n",
    "print(newHash)\n",
    "print(hashlib.sha256(blockheader.encode()).hexdigest())"
   ]
  }
 ],
 "metadata": {
  "colab": {
   "name": "Hashing.ipynb",
   "provenance": []
  },
  "kernelspec": {
   "display_name": "Python 3",
   "language": "python",
   "name": "python3"
  },
  "language_info": {
   "codemirror_mode": {
    "name": "ipython",
    "version": 3
   },
   "file_extension": ".py",
   "mimetype": "text/x-python",
   "name": "python",
   "nbconvert_exporter": "python",
   "pygments_lexer": "ipython3",
   "version": "3.8.5"
  }
 },
 "nbformat": 4,
 "nbformat_minor": 1
}
