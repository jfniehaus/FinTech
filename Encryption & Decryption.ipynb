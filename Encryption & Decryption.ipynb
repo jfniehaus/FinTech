{
 "cells": [
  {
   "cell_type": "markdown",
   "metadata": {},
   "source": [
    "# Blockchain Cryptography"
   ]
  },
  {
   "cell_type": "markdown",
   "metadata": {},
   "source": [
    "- Basic RSA cryptographic work using Python \n",
    "- Creating public and private keys, and then encrypting, decrypting, signing, and verifing messages"
   ]
  },
  {
   "cell_type": "code",
   "execution_count": 1,
   "metadata": {},
   "outputs": [],
   "source": [
    "from sympy import mod_inverse\n",
    "import hashlib"
   ]
  },
  {
   "cell_type": "markdown",
   "metadata": {},
   "source": [
    "### Public Keys\n",
    "- First, you need to create the public keys (n and e) and a private key (d).\n",
    "- The first step is to choose large prime numbers p and q. \n",
    "- In reality, these numbers should stay private as anyone with these two numbers can easily compute the private key."
   ]
  },
  {
   "cell_type": "code",
   "execution_count": 2,
   "metadata": {},
   "outputs": [],
   "source": [
    "#Choose two large prime numbers\n",
    "p = 112481050639317229656723018120659623829736571015511322021617837187076258724819\n",
    "q = 89185111938335771293328323333111422985697062149139368049232365065924632677343"
   ]
  },
  {
   "cell_type": "markdown",
   "metadata": {},
   "source": [
    "- Your first public key is n=p∗q. \n",
    "- The security of RSA encryption relies on the fact that given n, it is very hard to figure out what p and q are. This is called factorization. \n",
    "- The second public key is another prime number, e, smaller than n. \n",
    "- Now that you have n and e, you can broadcast these public keys n and e to anyone who wants to send you a message."
   ]
  },
  {
   "cell_type": "code",
   "execution_count": 3,
   "metadata": {},
   "outputs": [
    {
     "name": "stdout",
     "output_type": "stream",
     "text": [
      "n = 10031635092209121498674987861649022163771061565130441373555584537047455688991931937563110507506652959265182705476941444174840580049331773111276155053075917\n",
      "\n",
      "e = 65537\n"
     ]
    }
   ],
   "source": [
    "#Public Keys:\n",
    "n = p*q\n",
    "print(\"n =\",n)\n",
    "\n",
    "e = 65537\n",
    "print(\"\\ne =\",e)"
   ]
  },
  {
   "cell_type": "markdown",
   "metadata": {},
   "source": [
    "### Private Key\n",
    "- Next, you must compute your private key. You need to find a number d so that (d∗e−1) is a multiple of (p−1)(q−1)\n",
    "- In other words, find d so that d∗e modulo (p−1)(q−1) = 1. \n",
    "- For small p and q, this can be done with a simple while loop. However, for big numbers, the loop would take a very long time to run. The function mod_inverse from the package sympy helps to find the smallest number d so that (d∗x) modulo y = 1."
   ]
  },
  {
   "cell_type": "code",
   "execution_count": 4,
   "metadata": {},
   "outputs": [
    {
     "name": "stdout",
     "output_type": "stream",
     "text": [
      "d = 6886694454027199678759881881737814611139109676622117091683160716943132564863007715345245794849719693156483947830169207322284232384798025277322134502462181\n"
     ]
    }
   ],
   "source": [
    "#Private Key:\n",
    "d = mod_inverse(e, (p - 1) * (q - 1))\n",
    "print(\"d =\",d)"
   ]
  },
  {
   "cell_type": "markdown",
   "metadata": {},
   "source": [
    "### Encrypting a Message\n",
    "- Enter your message in the box below"
   ]
  },
  {
   "cell_type": "code",
   "execution_count": 5,
   "metadata": {},
   "outputs": [
    {
     "name": "stdout",
     "output_type": "stream",
     "text": [
      "Your message here: I'm running late - save me a seat!\n"
     ]
    }
   ],
   "source": [
    "message = input('Your message here: ')"
   ]
  },
  {
   "cell_type": "markdown",
   "metadata": {},
   "source": [
    "- Transform the message into an integer m, so you can encrypt m using the public keys n and e using the formula c = m^e modulo n. \n",
    "- Now that you have the ciphertext, you can safely send it through an unsecured line. Only someone with the private key will be able to decrypt the message."
   ]
  },
  {
   "cell_type": "code",
   "execution_count": 6,
   "metadata": {},
   "outputs": [
    {
     "name": "stdout",
     "output_type": "stream",
     "text": [
      "\n",
      "m = 2168487814576787067708906344000199313807702860744753140797274171002440602034992161\n",
      "\n",
      "c = 1904586625101684220529213821461418514395395686536959007880474756185402577626168016684296810876312377991949371414018762391692362533968384736113385507487128\n"
     ]
    }
   ],
   "source": [
    "#String to integer\n",
    "m = int.from_bytes(message.encode('utf-8'), \"big\")\n",
    "print(\"\\nm =\",m)\n",
    "\n",
    "#Encrypt\n",
    "c = pow(m, e, n)\n",
    "print(\"\\nc =\",c)"
   ]
  },
  {
   "cell_type": "markdown",
   "metadata": {},
   "source": [
    "### Recieving an Encrypted Message\n",
    "- You receive the ciphertext below, made using your public keys to encrypt a plaintext message. \n",
    "- To decrypt the ciphertext, you can apply the formula m = c^d modulo n \n",
    "- Finally, you can convert the numeric message into text by converting the integer into bytes and using .decode()"
   ]
  },
  {
   "cell_type": "code",
   "execution_count": 7,
   "metadata": {},
   "outputs": [
    {
     "name": "stdout",
     "output_type": "stream",
     "text": [
      "Congrats! You just decrypted your first message!\n"
     ]
    }
   ],
   "source": [
    "ciphertext = 9029727923340384868426518880554167882611943065703927838617521515742066859974885947494642963883568408240430125599636824996577080116022919050269017033777667\n",
    "\n",
    "m2 = pow(ciphertext, d, n)\n",
    "m2 = m2.to_bytes((m2.bit_length() + 7) // 8, 'big')\n",
    "\n",
    "message2 = m2.decode()\n",
    "print(message2)"
   ]
  },
  {
   "cell_type": "markdown",
   "metadata": {},
   "source": [
    "### Signing a Message\n",
    "- The sender of the message wants to make sure you received it. He/she asks you to sign the SHA-256 hash of the message you just received as a receipt. \n",
    "- First, hash message2 into m_hash, then convert it into an integer.\n",
    "- Now that you have an integer hashed message, you can sign it. Create a signature by encrypting the hashed message using your private key d. The signature can be computed using the formulas = m_hash^d modulo n. \n",
    "- Send back the hashed message m_hash together with the signatures to the sender."
   ]
  },
  {
   "cell_type": "code",
   "execution_count": 8,
   "metadata": {},
   "outputs": [
    {
     "name": "stdout",
     "output_type": "stream",
     "text": [
      "s = 3141272798217254437841732019283821297853765608850884890749159341487650279071377864998607585732045317788354363036712706102305523253064683707241033589893839\n"
     ]
    }
   ],
   "source": [
    "m_hash = hashlib.sha256(message2.encode()).hexdigest()\n",
    "\n",
    "m3 = int.from_bytes(m_hash.encode('utf-8'), \"big\")\n",
    "\n",
    "sig = pow(m3, d, n)\n",
    "print('s =',sig)"
   ]
  },
  {
   "cell_type": "markdown",
   "metadata": {},
   "source": [
    "### Verify a Message\n",
    "- The sender receives the hashed message m_hash, and your signature. He/she wants to verify that the signature matches the hash.\n",
    "- Check that m_hash = s^e modulo n."
   ]
  },
  {
   "cell_type": "code",
   "execution_count": 9,
   "metadata": {},
   "outputs": [
    {
     "name": "stdout",
     "output_type": "stream",
     "text": [
      "Message Verified\n"
     ]
    }
   ],
   "source": [
    "if pow(sig,e,n) == m3:\n",
    "    print(\"Message Verified\")"
   ]
  }
 ],
 "metadata": {
  "kernelspec": {
   "display_name": "Python 3",
   "language": "python",
   "name": "python3"
  },
  "language_info": {
   "codemirror_mode": {
    "name": "ipython",
    "version": 3
   },
   "file_extension": ".py",
   "mimetype": "text/x-python",
   "name": "python",
   "nbconvert_exporter": "python",
   "pygments_lexer": "ipython3",
   "version": "3.8.5"
  }
 },
 "nbformat": 4,
 "nbformat_minor": 4
}
